{
 "cells": [
  {
   "cell_type": "markdown",
   "metadata": {},
   "source": [
    "# Credit card fraud classifier\n",
    "\n",
    "Classifying anonymized credit card fraud transactions dataset from kaggle: https://www.kaggle.com/dalpozz/creditcardfraud"
   ]
  },
  {
   "cell_type": "code",
   "execution_count": 70,
   "metadata": {},
   "outputs": [],
   "source": [
    "import pandas as pd\n",
    "import numpy as np\n",
    "import matplotlib.pyplot as plt\n",
    "from keras.models import Sequential\n",
    "from keras.layers import Dense, Dropout\n",
    "\n",
    "%matplotlib inline"
   ]
  },
  {
   "cell_type": "markdown",
   "metadata": {},
   "source": [
    "### You can tweak these settings as you like:"
   ]
  },
  {
   "cell_type": "code",
   "execution_count": 71,
   "metadata": {
    "collapsed": true
   },
   "outputs": [],
   "source": [
    "train_size = 0.8\n",
    "batch_size = 10\n",
    "state_size = 64\n",
    "num_features = 30\n",
    "num_classes = 1\n",
    "dropout = 0.5\n",
    "learning_rate = 0.001\n",
    "epochs = 50              #"
   ]
  },
  {
   "cell_type": "markdown",
   "metadata": {},
   "source": [
    "### Read data from csv and get train and test data length:\n",
    "dataset is already balanced, so no need to do that."
   ]
  },
  {
   "cell_type": "code",
   "execution_count": 72,
   "metadata": {
    "collapsed": true
   },
   "outputs": [],
   "source": [
    "csv_file_path = \"data/creditcard_sampled.csv\"\n",
    "\n",
    "dataset = pd.read_csv(csv_file_path)\n",
    "train_length = int(len(dataset.index) * train_size)\n",
    "test_length = int(len(dataset.index) * (1.0 - train_size))"
   ]
  },
  {
   "cell_type": "markdown",
   "metadata": {},
   "source": [
    "### Used features from csv:"
   ]
  },
  {
   "cell_type": "code",
   "execution_count": 73,
   "metadata": {
    "collapsed": true
   },
   "outputs": [],
   "source": [
    "features = [\n",
    "            \"Time\",\"V1\",\"V2\",\"V3\",\"V4\",\"V5\",\"V6\",\"V7\",\"V8\",\"V9\",\n",
    "            \"V10\",\"V11\",\"V12\",\"V13\",\"V14\",\"V15\",\"V16\",\"V17\",\"V18\",\n",
    "            \"V19\",\"V20\",\"V21\",\"V22\",\"V23\",\"V24\",\"V25\",\"V26\",\"V27\",\n",
    "            \"V28\",\"Amount\",\n",
    "            ]"
   ]
  },
  {
   "cell_type": "markdown",
   "metadata": {},
   "source": [
    "### Normalize dataset and split train/test data:"
   ]
  },
  {
   "cell_type": "code",
   "execution_count": 74,
   "metadata": {
    "collapsed": true
   },
   "outputs": [],
   "source": [
    "dataset_norm = (dataset - dataset.min()) / (dataset.max() - dataset.min())\n",
    "dataset_norm = dataset_norm.sample(frac=1)\n",
    "dataset_train = dataset_norm[dataset.index < train_length]\n",
    "dataset_test = dataset_norm[dataset.index >= train_length]\n",
    "\n",
    "x_train = dataset_train[features].as_matrix()\n",
    "y_train = dataset_train[[\"Class\"]].as_matrix()\n",
    "x_test = dataset_test[features].as_matrix()\n",
    "y_test = dataset_test[[\"Class\"]].as_matrix()"
   ]
  },
  {
   "cell_type": "markdown",
   "metadata": {},
   "source": [
    "### Reshape data:"
   ]
  },
  {
   "cell_type": "code",
   "execution_count": 75,
   "metadata": {
    "collapsed": true
   },
   "outputs": [],
   "source": [
    "x_train = x_train[:-(len(x_train) % num_features)].reshape([-1, num_features])\n",
    "y_train = y_train[:-(len(y_train) % num_features)].reshape([-1, num_classes])\n",
    "x_test = x_test[:-(len(x_test) % num_features)].reshape([-1, num_features])\n",
    "y_test = y_test[:-(len(y_test) % num_features)].reshape([-1, num_classes])"
   ]
  },
  {
   "cell_type": "markdown",
   "metadata": {},
   "source": [
    "### Define and compile model:"
   ]
  },
  {
   "cell_type": "code",
   "execution_count": 76,
   "metadata": {
    "collapsed": true
   },
   "outputs": [],
   "source": [
    "model = Sequential()\n",
    "model.add(Dense(state_size, input_dim=num_features, activation='relu'))\n",
    "model.add(Dropout(dropout))\n",
    "model.add(Dense(state_size, activation='relu'))\n",
    "model.add(Dropout(dropout))\n",
    "model.add(Dense(1, activation='sigmoid'))\n",
    "model.compile(loss='binary_crossentropy', optimizer='rmsprop', metrics=['accuracy'])"
   ]
  },
  {
   "cell_type": "markdown",
   "metadata": {},
   "source": [
    "### Train model:"
   ]
  },
  {
   "cell_type": "code",
   "execution_count": 77,
   "metadata": {},
   "outputs": [
    {
     "name": "stdout",
     "output_type": "stream",
     "text": [
      "Epoch 1/50\n",
      "780/780 [==============================] - 0s - loss: 0.6441 - acc: 0.6397     \n",
      "Epoch 2/50\n",
      "780/780 [==============================] - 0s - loss: 0.5452 - acc: 0.7795     \n",
      "Epoch 3/50\n",
      "780/780 [==============================] - 0s - loss: 0.4303 - acc: 0.8359     \n",
      "Epoch 4/50\n",
      "780/780 [==============================] - 0s - loss: 0.3493 - acc: 0.8615     \n",
      "Epoch 5/50\n",
      "780/780 [==============================] - 0s - loss: 0.3006 - acc: 0.8987     \n",
      "Epoch 6/50\n",
      "780/780 [==============================] - 0s - loss: 0.2568 - acc: 0.9103     \n",
      "Epoch 7/50\n",
      "780/780 [==============================] - 0s - loss: 0.2310 - acc: 0.9231     \n",
      "Epoch 8/50\n",
      "780/780 [==============================] - 0s - loss: 0.2168 - acc: 0.9359     \n",
      "Epoch 9/50\n",
      "780/780 [==============================] - 0s - loss: 0.2175 - acc: 0.9372     \n",
      "Epoch 10/50\n",
      "780/780 [==============================] - 0s - loss: 0.1858 - acc: 0.9410     \n",
      "Epoch 11/50\n",
      "780/780 [==============================] - 0s - loss: 0.1964 - acc: 0.9346     \n",
      "Epoch 12/50\n",
      "780/780 [==============================] - 0s - loss: 0.1764 - acc: 0.9474     \n",
      "Epoch 13/50\n",
      "780/780 [==============================] - 0s - loss: 0.1789 - acc: 0.9410     \n",
      "Epoch 14/50\n",
      "780/780 [==============================] - 0s - loss: 0.1580 - acc: 0.9487     \n",
      "Epoch 15/50\n",
      "780/780 [==============================] - 0s - loss: 0.1668 - acc: 0.9577     \n",
      "Epoch 16/50\n",
      "780/780 [==============================] - 0s - loss: 0.1520 - acc: 0.9564     \n",
      "Epoch 17/50\n",
      "780/780 [==============================] - 0s - loss: 0.1557 - acc: 0.9538     \n",
      "Epoch 18/50\n",
      "780/780 [==============================] - 0s - loss: 0.1472 - acc: 0.9551     \n",
      "Epoch 19/50\n",
      "780/780 [==============================] - 0s - loss: 0.1449 - acc: 0.9500     \n",
      "Epoch 20/50\n",
      "780/780 [==============================] - 0s - loss: 0.1399 - acc: 0.9564     \n",
      "Epoch 21/50\n",
      "780/780 [==============================] - 0s - loss: 0.1491 - acc: 0.9577     \n",
      "Epoch 22/50\n",
      "780/780 [==============================] - 0s - loss: 0.1350 - acc: 0.9615     \n",
      "Epoch 23/50\n",
      "780/780 [==============================] - 0s - loss: 0.1320 - acc: 0.9615     \n",
      "Epoch 24/50\n",
      "780/780 [==============================] - 0s - loss: 0.1337 - acc: 0.9615     \n",
      "Epoch 25/50\n",
      "780/780 [==============================] - 0s - loss: 0.1337 - acc: 0.9679     \n",
      "Epoch 26/50\n",
      "780/780 [==============================] - 0s - loss: 0.1368 - acc: 0.9564     \n",
      "Epoch 27/50\n",
      "780/780 [==============================] - 0s - loss: 0.1333 - acc: 0.9615     \n",
      "Epoch 28/50\n",
      "780/780 [==============================] - 0s - loss: 0.1077 - acc: 0.9718     \n",
      "Epoch 29/50\n",
      "780/780 [==============================] - 0s - loss: 0.1328 - acc: 0.9577     \n",
      "Epoch 30/50\n",
      "780/780 [==============================] - 0s - loss: 0.1266 - acc: 0.9538     \n",
      "Epoch 31/50\n",
      "780/780 [==============================] - 0s - loss: 0.1086 - acc: 0.9603     \n",
      "Epoch 32/50\n",
      "780/780 [==============================] - 0s - loss: 0.1123 - acc: 0.9667     \n",
      "Epoch 33/50\n",
      "780/780 [==============================] - 0s - loss: 0.1196 - acc: 0.9628     \n",
      "Epoch 34/50\n",
      "780/780 [==============================] - 0s - loss: 0.1252 - acc: 0.9654     \n",
      "Epoch 35/50\n",
      "780/780 [==============================] - 0s - loss: 0.1170 - acc: 0.9667     \n",
      "Epoch 36/50\n",
      "780/780 [==============================] - 0s - loss: 0.1323 - acc: 0.9641     \n",
      "Epoch 37/50\n",
      "780/780 [==============================] - 0s - loss: 0.1171 - acc: 0.9705     \n",
      "Epoch 38/50\n",
      "780/780 [==============================] - 0s - loss: 0.1296 - acc: 0.9641     \n",
      "Epoch 39/50\n",
      "780/780 [==============================] - 0s - loss: 0.1144 - acc: 0.9705     \n",
      "Epoch 40/50\n",
      "780/780 [==============================] - 0s - loss: 0.1153 - acc: 0.9667     \n",
      "Epoch 41/50\n",
      "780/780 [==============================] - 0s - loss: 0.1227 - acc: 0.9615     \n",
      "Epoch 42/50\n",
      "780/780 [==============================] - 0s - loss: 0.1100 - acc: 0.9679     \n",
      "Epoch 43/50\n",
      "780/780 [==============================] - 0s - loss: 0.1193 - acc: 0.9692     \n",
      "Epoch 44/50\n",
      "780/780 [==============================] - 0s - loss: 0.1190 - acc: 0.9641     \n",
      "Epoch 45/50\n",
      "780/780 [==============================] - 0s - loss: 0.1226 - acc: 0.9628     \n",
      "Epoch 46/50\n",
      "780/780 [==============================] - 0s - loss: 0.1029 - acc: 0.9705     \n",
      "Epoch 47/50\n",
      "780/780 [==============================] - 0s - loss: 0.1090 - acc: 0.9731     \n",
      "Epoch 48/50\n",
      "780/780 [==============================] - 0s - loss: 0.1183 - acc: 0.9667     \n",
      "Epoch 49/50\n",
      "780/780 [==============================] - 0s - loss: 0.1087 - acc: 0.9667     \n",
      "Epoch 50/50\n",
      "780/780 [==============================] - 0s - loss: 0.1049 - acc: 0.9705     \n"
     ]
    },
    {
     "data": {
      "text/plain": [
       "<keras.callbacks.History at 0x7f2c9bf58668>"
      ]
     },
     "execution_count": 77,
     "metadata": {},
     "output_type": "execute_result"
    }
   ],
   "source": [
    "model.fit(x_train, y_train, epochs=epochs, batch_size=batch_size)"
   ]
  },
  {
   "cell_type": "markdown",
   "metadata": {},
   "source": [
    "### Evaluate model:"
   ]
  },
  {
   "cell_type": "code",
   "execution_count": 78,
   "metadata": {},
   "outputs": [
    {
     "name": "stdout",
     "output_type": "stream",
     "text": [
      " 10/180 [>.............................] - ETA: 1s\n",
      "Accuracy: 96.67 % \n"
     ]
    }
   ],
   "source": [
    "score = model.evaluate(x_test, y_test, batch_size=batch_size)\n",
    "print(\"\\nAccuracy: {0:.2f} % \".format(score[1] * 100))"
   ]
  },
  {
   "cell_type": "markdown",
   "metadata": {},
   "source": [
    "### Show predicted values:"
   ]
  },
  {
   "cell_type": "code",
   "execution_count": 79,
   "metadata": {},
   "outputs": [
    {
     "data": {
      "image/png": "[encoded data removed]",
      "text/plain": [
       "<matplotlib.figure.Figure at 0x7f2c9bf6ae10>"
      ]
     },
     "metadata": {},
     "output_type": "display_data"
    }
   ],
   "source": [
    "preds = list(map(lambda x: int(round(x[0])), model.predict(x_test)))\n",
    "x = [0] * preds.count(0)\n",
    "y = [1] * preds.count(1)\n",
    "\n",
    "bins = np.linspace(-2, 2, 10)\n",
    "plt.hist(x, bins, alpha=1, label='predicted: 0')\n",
    "plt.hist(y, bins, alpha=1, label='predicted: 1')\n",
    "plt.legend(loc='upper left')\n",
    "plt.show()"
   ]
  }
 ],
 "metadata": {
  "kernelspec": {
   "display_name": "Python 3",
   "language": "python",
   "name": "python3"
  },
  "language_info": {
   "codemirror_mode": {
    "name": "ipython",
    "version": 3
   },
   "file_extension": ".py",
   "mimetype": "text/x-python",
   "name": "python",
   "nbconvert_exporter": "python",
   "pygments_lexer": "ipython3",
   "version": "3.5.2"
  }
 },
 "nbformat": 4,
 "nbformat_minor": 2
}
